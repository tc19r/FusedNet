{
  "nbformat": 4,
  "nbformat_minor": 0,
  "metadata": {
    "colab": {
      "name": "test0.ipynb",
      "provenance": [],
      "authorship_tag": "ABX9TyONOazO3Ee/fIjj9jqTqXSM"
    },
    "kernelspec": {
      "name": "python3",
      "display_name": "Python 3"
    },
    "language_info": {
      "name": "python"
    }
  },
  "cells": [
    {
      "cell_type": "code",
      "execution_count": null,
      "metadata": {
        "id": "BVyMWZNY_Bc7"
      },
      "outputs": [],
      "source": [
        "\n",
        "import os\n",
        "import numpy as np\n",
        "X=np.empty([0,34])\n",
        "rootpath='./'\n",
        "for root, dirs, files in os.walk(rootpath):\n",
        "     for filename in [fi for fi in files if fi.endswith(\".pf\")]:\n",
        "         pf=np.fromfile(filename)\n",
        "         pf=pf.reshape(int(len(pf)/34),34)\n",
        "         np.random.shuffle(pf)\n",
        "         X=np.vstack([X,pf])\n",
        "         print(pf.shape)\n",
        "         print(filename)\n",
        "trainset=np.float64(X)\n",
        "\n",
        "num_classes=400\n",
        "from sklearn.mixture import GaussianMixture\n",
        "gm = GaussianMixture(n_components=num_classes, random_state=0,warm_start=True)\n",
        "\n",
        "dataset=trainset[:,0:8]\n",
        "indexes=np.random.choice(dataset.shape[0], int(np.floor(dataset.shape[0]/10)), replace=False)\n",
        "dataset=dataset[indexes,:]\n",
        "\n",
        "dataset.shape\n",
        "\n",
        "gm.fit(dataset)\n"
      ]
    }
  ]
}