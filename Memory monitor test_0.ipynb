{
  "nbformat": 4,
  "nbformat_minor": 0,
  "metadata": {
    "colab": {
      "name": "Untitled0.ipynb",
      "provenance": [],
      "collapsed_sections": [],
      "authorship_tag": "ABX9TyNrjTjBfzP4Q1XUuRZvWBdm",
      "include_colab_link": true
    },
    "kernelspec": {
      "name": "python3",
      "display_name": "Python 3"
    },
    "language_info": {
      "name": "python"
    }
  },
  "cells": [
    {
      "cell_type": "markdown",
      "metadata": {
        "id": "view-in-github",
        "colab_type": "text"
      },
      "source": [
        "<a href=\"https://colab.research.google.com/github/tc19r/FusedNet/blob/main/Memory%20monitor%20test_0.ipynb\" target=\"_parent\"><img src=\"https://colab.research.google.com/assets/colab-badge.svg\" alt=\"Open In Colab\"/></a>"
      ]
    },
    {
      "cell_type": "code",
      "execution_count": null,
      "metadata": {
        "id": "LHGLuO2cP4W5"
      },
      "outputs": [],
      "source": []
    },
    {
      "cell_type": "markdown",
      "source": [
        "This note book is to address the memory problem.\n",
        "The guess is that, the static graph of the triangular solve take up too much meomry. Using Np to get the inverse directly. However, The final form may still take up too much memory. I wonder how did the sklearn module calculated the energy.But again, that sklearn method do not build static graphs. \n",
        "\n",
        "https://stackoverflow.com/questions/110259/which-python-memory-profiler-is-recommended\n",
        "This link, although not perfect, is better then the line by line test. At least, it is easier to see which line clogged the memory.\n",
        "\n",
        "increasing the shrink factor to 100, installing profiling tool."
      ],
      "metadata": {
        "id": "O_Ktx81WP5PU"
      }
    },
    {
      "cell_type": "code",
      "source": [
        "%load_ext memory_profiler"
      ],
      "metadata": {
        "id": "Rat8gbzKZRqA"
      },
      "execution_count": null,
      "outputs": []
    },
    {
      "cell_type": "code",
      "source": [
        "%%file my_file.py\n",
        "import os\n",
        "import numpy as np\n",
        "def load():\n",
        "    X=np.empty([0,34])\n",
        "    rootpath='./'\n",
        "    for root, dirs, files in os.walk(rootpath):\n",
        "         for filename in [fi for fi in files if fi.endswith(\".pf\")]:\n",
        "             pf=np.fromfile(filename)\n",
        "             pf=pf.reshape(int(len(pf)/34),34)\n",
        "             np.random.shuffle(pf)\n",
        "             X=np.vstack([X,pf])\n",
        "             print(pf.shape)\n",
        "             print(filename)\n",
        "    trainset=np.float64(X)\n",
        "\n",
        "    num_classes=400\n",
        "    from sklearn.mixture import GaussianMixture\n",
        "    gm = GaussianMixture(n_components=num_classes, random_state=0,warm_start=True,max_iter=10)\n",
        "\n",
        "    dataset=trainset[:,0:8]\n",
        "from my_file import load\n",
        "%mprun -f load load()"
      ],
      "metadata": {
        "id": "88QZwFywZUkp"
      },
      "execution_count": null,
      "outputs": []
    }
  ]
}